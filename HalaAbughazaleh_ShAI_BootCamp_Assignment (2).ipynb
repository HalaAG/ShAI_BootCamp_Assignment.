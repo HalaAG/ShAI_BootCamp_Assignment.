{
  "nbformat": 4,
  "nbformat_minor": 0,
  "metadata": {
    "colab": {
      "provenance": []
    },
    "kernelspec": {
      "name": "python3",
      "display_name": "Python 3"
    },
    "language_info": {
      "name": "python"
    }
  },
  "cells": [
    {
      "cell_type": "markdown",
      "source": [
        "# Tasks\n",
        "\n",
        "1. **Basic Data Exploration**: Identify the number of rows and columns in the dataset, determine the data types of each column, and check for missing values in each column.\n",
        "\n",
        "2. **Descriptive Statistics**: Calculate basic statistics mean, median, mode, minimum, and maximum salary, determine the range of salaries, and find the standard deviation.\n",
        "\n",
        "3. **Data Cleaning**: Handle missing data by suitable method with explain why you use it.\n",
        "\n",
        "4. **Basic Data Visualization**: Create histograms or bar charts to visualize the distribution of salaries, and use pie charts to represent the proportion of employees in different departments.\n",
        "\n",
        "5. **Grouped Analysis**: Group the data by one or more columns and calculate summary statistics for each group, and compare the average salaries across different groups.\n",
        "\n",
        "6. **Simple Correlation Analysis**: Identify any correlation between salary and another numerical column, and plot a scatter plot to visualize the relationship.\n",
        "\n",
        "8. **Summary of Insights**: Write a brief report summarizing the findings and insights from the analyses."
      ],
      "metadata": {
        "id": "X1VJposzVrSF"
      }
    },
    {
      "cell_type": "code",
      "source": [
        "import pandas as pd\n",
        "import numpy as np\n",
        "\n",
        "#Load dataset\n",
        "df = pd.read_csv('/content/Salaries.csv')\n",
        "df.head()"
      ],
      "metadata": {
        "id": "KmZfk5xkXI2y"
      },
      "execution_count": null,
      "outputs": []
    },
    {
      "cell_type": "code",
      "source": [
        "df.columns"
      ],
      "metadata": {
        "id": "xIT514wlvvBZ"
      },
      "execution_count": null,
      "outputs": []
    },
    {
      "cell_type": "code",
      "source": [
        "# @title #1) Basic Data Exploration\n",
        "# Identify the number of rows and columns in the dataset\n",
        "df.shape\n",
        "#(rows #, columns#)"
      ],
      "metadata": {
        "id": "bbIN2ujHUyRx"
      },
      "execution_count": null,
      "outputs": []
    },
    {
      "cell_type": "code",
      "source": [
        "#determine the data types of each column\n",
        "df.dtypes"
      ],
      "metadata": {
        "id": "_dovy31FUyUF"
      },
      "execution_count": null,
      "outputs": []
    },
    {
      "cell_type": "code",
      "source": [
        "#check for missing values in each column\n",
        "df.isnull().sum()"
      ],
      "metadata": {
        "id": "zzI-OaJXK1Fx"
      },
      "execution_count": null,
      "outputs": []
    },
    {
      "cell_type": "code",
      "source": [
        "# @title 2) Descriptive Statistics\n",
        "df.describe()"
      ],
      "metadata": {
        "id": "bdTxFkTnK1JQ"
      },
      "execution_count": null,
      "outputs": []
    },
    {
      "cell_type": "code",
      "source": [
        "# @title 3) Data Cleaning\n",
        "\n",
        "\n",
        "missing_numerical = df[['BasePay', 'OvertimePay', 'OtherPay', 'TotalPay', 'TotalPayBenefits', 'Year']]\n",
        "missing_numerical = missing_numerical.fillna(missing_numerical.mean()) #numercal data\n",
        "df['Benefits'].fillna(0, inplace=True) #if there no benifit>> replace it with zero\n",
        "df=df.drop(columns=['Notes','Status']) #all instances are empty\n",
        "df.shape\n",
        "df.head()"
      ],
      "metadata": {
        "id": "OQGwlpmHMPj1"
      },
      "execution_count": null,
      "outputs": []
    },
    {
      "cell_type": "code",
      "source": [
        "# @title 4) Basic Data Visualization\n",
        "#Histogram to visualize the distribution of salaries\n",
        "import matplotlib.pyplot as plt\n",
        "import seaborn as sns\n",
        "\n",
        "ax = sns.distplot(df.TotalPay, bins=50, kde=False)\n",
        "plt.axvline(x=np.mean(df.TotalPay), color='g', label='mean')\n",
        "plt.axvline(x=np.median(df.TotalPay), color='orange', label='median')\n",
        "plt.legend(loc='upper right')"
      ],
      "metadata": {
        "id": "EmZAO38IMPsA"
      },
      "execution_count": null,
      "outputs": []
    },
    {
      "cell_type": "code",
      "source": [
        "df['JobTitle'].value_counts()"
      ],
      "metadata": {
        "id": "5HKWCv_QEEXa"
      },
      "execution_count": null,
      "outputs": []
    },
    {
      "cell_type": "code",
      "source": [
        "#pie charts to represent the proportion of employees in different departments\n",
        "\n",
        "plt.figure(figsize=(150, 100))\n",
        "\n",
        "jobCounts = df['JobTitle'].value_counts()\n",
        "plt.pie(jobCounts, labels=jobCounts.index, autopct='%1f%%', startangle=180,colors=sns.color_palette('pastel'))\n",
        "plt.title('Proportion of Employees in Different Job Titles')\n",
        "plt.show()\n",
        "\n"
      ],
      "metadata": {
        "id": "XNUL7EsUR7hR"
      },
      "execution_count": null,
      "outputs": []
    },
    {
      "cell_type": "code",
      "source": [
        "#hierarchal clustering\n",
        "\n",
        "from sklearn.impute import SimpleImputer\n",
        "from sklearn.preprocessing import StandardScaler\n",
        "\n",
        "\n",
        "sample_df = df.sample(n=500)\n",
        "features = df[['BasePay', 'OvertimePay', 'OtherPay', 'Benefits']].copy()\n",
        "# Handling missing values\n",
        "imputer = SimpleImputer(strategy='median')\n",
        "features_imputed = imputer.fit_transform(features)\n",
        "# Scaling the data\n",
        "scaler = StandardScaler()\n",
        "features_scaled = scaler.fit_transform(features_imputed)\n",
        "\n",
        "from scipy.cluster.hierarchy import dendrogram, linkage\n",
        "# Generating the linkage matrix\n",
        "Z = linkage(features_scaled, 'ward')\n",
        "# Plotting the dendrogram to help decide the number of clusters\n",
        "plt.figure(figsize=(10, 7))\n",
        "dendrogram(Z, no_labels=True)\n",
        "plt.title('Hierarchical Clustering Dendrogram (Sampled Data)')\n",
        "plt.xlabel('Sample index')\n",
        "plt.ylabel('Distance')\n",
        "plt.show()\n",
        "\n",
        "from scipy.cluster.hierarchy import fcluster\n",
        "# Assuming you decided on a distance threshold or directly specifying the number of clusters\n",
        "k = 5  # for example, or use a distance threshold in fcluster\n",
        "clusters = fcluster(Z, k, criterion='maxclust')\n",
        "# Add cluster assignments back to the sample DataFrame\n",
        "sample_df['Cluster'] = clusters\n",
        "\n",
        "# Count the number of occurrences of each cluster\n",
        "cluster_counts = sample_df['Cluster'].value_counts()\n",
        "# Create a pie chart\n",
        "plt.figure(figsize=(10, 7))\n",
        "cluster_counts.plot.pie(autopct='%1.1f%%', startangle=90)\n",
        "plt.title('Proportion of Employees by Cluster (Sampled Data)')\n",
        "plt.ylabel('')  # This hides the y-label\n",
        "plt.show()\n",
        "\n",
        "# For hierarchical clustering, calculate the mean or median for each cluster\n",
        "for c in sample_df['Cluster'].unique():\n",
        "    print(f\"Cluster {c} characteristics:\")\n",
        "    print(sample_df[sample_df['Cluster'] == c][['BasePay', 'OvertimePay', 'OtherPay', 'Benefits']].mean())\n",
        "    print(\"\\n\")"
      ],
      "metadata": {
        "id": "SveWMT8KiAxH"
      },
      "execution_count": null,
      "outputs": []
    },
    {
      "cell_type": "code",
      "source": [
        "# @title 5) Grouped Analysis\n",
        "\n",
        "print('The avarage before grouping:',df['TotalPay'].mean())\n",
        "\n",
        "print('\\n\\n#################################################\\n\\n')\n",
        "\n",
        "groupedData=df.groupby(['JobTitle', 'BasePay'])\n",
        "groupedData.agg(['mean', 'median', 'std'])\n",
        "\n",
        "print('\\n\\n#################################################\\n\\n')\n",
        "\n",
        "print('The avarage after grouping:',groupedData['TotalPay'].mean())\n",
        "\n",
        "# Print the average salaries across different groups\n",
        "\n",
        "\n"
      ],
      "metadata": {
        "id": "pijrGuIzYFGv"
      },
      "execution_count": null,
      "outputs": []
    },
    {
      "cell_type": "code",
      "source": [
        "# @title 6) Simple Correlation Analysis\n",
        "correlation = df['TotalPay'].corr(df['BasePay'])\n",
        "plt.figure(figsize=(8, 6))\n",
        "plt.scatter(df['TotalPay'], df['BasePay'], color='yellow')\n",
        "plt.title('Scatter Plot of Total Salary vs Base Salary')\n",
        "plt.xlabel('BasePay')\n",
        "plt.ylabel('TotalPay')\n",
        "plt.grid(True)"
      ],
      "metadata": {
        "id": "wkVviaTfI98b"
      },
      "execution_count": null,
      "outputs": []
    },
    {
      "cell_type": "code",
      "source": [
        "import pandas as pd\n",
        "from sklearn.cluster import AgglomerativeClustering\n",
        "from sklearn.preprocessing import LabelEncoder\n",
        "import matplotlib.pyplot as plt\n",
        "from scipy.cluster.hierarchy import dendrogram\n",
        "\n",
        "import numpy as np\n",
        "\n",
        "#Load dataset\n",
        "df = pd.read_csv('/content/Salaries.csv')\n",
        "df.head()\n",
        "# Sample DataFrame with job titles (replace this with your actual DataFrame)\n",
        "\n",
        "\n",
        "# Encode categorical feature using label encoding\n",
        "label_encoder = LabelEncoder()\n",
        "df['JobTitleEncoded'] = label_encoder.fit_transform(df['JobTitle'])\n",
        "\n",
        "# Apply hierarchical clustering\n",
        "agg_clustering = AgglomerativeClustering(n_clusters=None, distance_threshold=0)\n",
        "cluster_labels = agg_clustering.fit_predict(df[['JobTitleEncoded']])\n",
        "\n",
        "# Plot the dendrogram\n",
        "plt.figure(figsize=(10, 6))\n",
        "dendrogram(agg_clustering.children_, labels=df['JobTitle'].values, leaf_rotation=90)\n",
        "plt.xlabel(\"Job Titles\")\n",
        "plt.ylabel(\"Distance\")\n",
        "plt.title(\"Dendrogram of Hierarchical Clustering\")\n",
        "plt.show()\n",
        "\n",
        "# Print cluster labels\n",
        "print(\"Cluster Labels:\")\n",
        "print(cluster_labels)\n"
      ],
      "metadata": {
        "id": "_s8SAvBVdkQE"
      },
      "execution_count": null,
      "outputs": []
    },
    {
      "cell_type": "markdown",
      "source": [
        "#7) Summary of Insights :\n",
        "**1)** The dataset **before cleaning contains (148654 rows, 13 columns)**\n",
        "and **after cleaning >> (148654 rows, 11 columns)**\n",
        "\n",
        "**2)** There is **missing values** in this dataset\n",
        "\n",
        "**3)** This dataset explain all financial information about employees in some organization\n",
        "\n",
        "**4) The data visualization** : the figure 1  (histogram) shows the min, max, mean and median of the salaries (TotalPay), the  figure 2 (piechart) represent the proportion of employees in different JobTitles but is not practical, and there is no column showing the departments so I worked with my team at the university (AI Team) to cluster the job titles into departments using hierarchical clustering in 500 saple of data, it is showing in figure 3 and figure 4.\n",
        "\n",
        "\n",
        "**5) Grouped Analysis**: I grouped the data by Job Title and Base Salary (by mean) to understand salary distribution withen the organization,I noticed that the mean of some jobs titles are higher than other.\n",
        "\n",
        "**6) Correlation Analysis**: I choose to find the correlation between total salary and base salary to find out the extent of the connection between it, It indicated the strength and direction of the relationship,  the avarage of basic salaries are paid more by organization, and there are some outliers"
      ],
      "metadata": {
        "id": "HE9jbRjcUyoX"
      }
    }
  ]
}